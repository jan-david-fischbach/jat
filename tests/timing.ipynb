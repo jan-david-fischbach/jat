{
 "cells": [
  {
   "cell_type": "code",
   "execution_count": 1,
   "metadata": {},
   "outputs": [],
   "source": [
    "import os\n",
    "os.environ[\"XLA_FLAGS\"] = '--xla_force_host_platform_device_count=10'"
   ]
  },
  {
   "cell_type": "code",
   "execution_count": 2,
   "metadata": {},
   "outputs": [],
   "source": [
    "import numpy as np\n",
    "import jax\n",
    "import jax.numpy as jnp\n",
    "\n",
    "import scipy.special as scs\n",
    "import treams.special as ts\n",
    "import treams.jspecial.bessel as jts"
   ]
  },
  {
   "cell_type": "code",
   "execution_count": 17,
   "metadata": {},
   "outputs": [],
   "source": [
    "n_eval = 1000000\n",
    "vec = np.linspace(1,2,n_eval).reshape(10, -1)"
   ]
  },
  {
   "cell_type": "code",
   "execution_count": 18,
   "metadata": {},
   "outputs": [
    {
     "data": {
      "text/plain": [
       "array([[0.44005059, 0.44005091, 0.44005124, ..., 0.47090155, 0.47090184,\n",
       "        0.47090213],\n",
       "       [0.47090242, 0.47090272, 0.47090301, ..., 0.49828834, 0.4982886 ,\n",
       "        0.49828885],\n",
       "       [0.49828911, 0.49828936, 0.49828962, ..., 0.52202266, 0.52202288,\n",
       "        0.52202309],\n",
       "       ...,\n",
       "       [0.57776527, 0.57776533, 0.57776539, ..., 0.58151691, 0.58151693,\n",
       "        0.58151695],\n",
       "       [0.58151697, 0.58151698, 0.581517  , ..., 0.58115712, 0.5811571 ,\n",
       "        0.58115708],\n",
       "       [0.58115705, 0.58115703, 0.581157  , ..., 0.57672494, 0.57672487,\n",
       "        0.57672481]])"
      ]
     },
     "execution_count": 18,
     "metadata": {},
     "output_type": "execute_result"
    }
   ],
   "source": [
    "scs.jv(1,vec)"
   ]
  },
  {
   "cell_type": "code",
   "execution_count": 19,
   "metadata": {},
   "outputs": [
    {
     "data": {
      "text/plain": [
       "Array([[0.44005059, 0.44005091, 0.44005124, ..., 0.47090155, 0.47090184,\n",
       "        0.47090213],\n",
       "       [0.47090242, 0.47090272, 0.47090301, ..., 0.49828834, 0.4982886 ,\n",
       "        0.49828885],\n",
       "       [0.49828911, 0.49828936, 0.49828962, ..., 0.52202266, 0.52202288,\n",
       "        0.52202309],\n",
       "       ...,\n",
       "       [0.57776527, 0.57776533, 0.57776539, ..., 0.58151691, 0.58151693,\n",
       "        0.58151695],\n",
       "       [0.58151697, 0.58151698, 0.581517  , ..., 0.58115712, 0.5811571 ,\n",
       "        0.58115708],\n",
       "       [0.58115705, 0.58115703, 0.581157  , ..., 0.57672494, 0.57672487,\n",
       "        0.57672481]], dtype=float64)"
      ]
     },
     "execution_count": 19,
     "metadata": {},
     "output_type": "execute_result"
    }
   ],
   "source": [
    "jts.jv(1,vec)"
   ]
  },
  {
   "cell_type": "code",
   "execution_count": 20,
   "metadata": {},
   "outputs": [
    {
     "name": "stdout",
     "output_type": "stream",
     "text": [
      "174 ms ± 2.63 ms per loop (mean ± std. dev. of 7 runs, 1 loop each)\n"
     ]
    }
   ],
   "source": [
    "%timeit scs.jv(2,vec)"
   ]
  },
  {
   "cell_type": "code",
   "execution_count": 21,
   "metadata": {},
   "outputs": [
    {
     "name": "stdout",
     "output_type": "stream",
     "text": [
      "216 ms ± 5.64 ms per loop (mean ± std. dev. of 7 runs, 1 loop each)\n"
     ]
    }
   ],
   "source": [
    "%timeit jts.jv(2,vec)"
   ]
  },
  {
   "cell_type": "code",
   "execution_count": 22,
   "metadata": {},
   "outputs": [],
   "source": [
    "device = jax.devices(\"cpu\")[0]"
   ]
  },
  {
   "cell_type": "code",
   "execution_count": 23,
   "metadata": {},
   "outputs": [
    {
     "name": "stdout",
     "output_type": "stream",
     "text": [
      "CPU times: user 472 ms, sys: 23.5 ms, total: 496 ms\n",
      "Wall time: 157 ms\n",
      "42.9 ms ± 1.77 ms per loop (mean ± std. dev. of 7 runs, 10 loops each)\n"
     ]
    }
   ],
   "source": [
    "vec = jax.device_put(vec, device)\n",
    "jit_jv = jax.pmap(jts.jv , in_axes=(None, 0), devices=jax.devices(\"cpu\"))\n",
    "\n",
    "%time jit_jv(2, vec).block_until_ready()\n",
    "%timeit jit_jv(2, vec).block_until_ready()"
   ]
  },
  {
   "cell_type": "code",
   "execution_count": null,
   "metadata": {},
   "outputs": [],
   "source": []
  },
  {
   "cell_type": "code",
   "execution_count": null,
   "metadata": {},
   "outputs": [],
   "source": []
  },
  {
   "cell_type": "code",
   "execution_count": null,
   "metadata": {},
   "outputs": [],
   "source": []
  }
 ],
 "metadata": {
  "kernelspec": {
   "display_name": "jat",
   "language": "python",
   "name": "python3"
  },
  "language_info": {
   "codemirror_mode": {
    "name": "ipython",
    "version": 3
   },
   "file_extension": ".py",
   "mimetype": "text/x-python",
   "name": "python",
   "nbconvert_exporter": "python",
   "pygments_lexer": "ipython3",
   "version": "3.9.18"
  }
 },
 "nbformat": 4,
 "nbformat_minor": 2
}
