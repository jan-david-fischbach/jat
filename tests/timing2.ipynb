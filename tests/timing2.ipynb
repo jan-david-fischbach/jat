{
 "cells": [
  {
   "cell_type": "code",
   "execution_count": 1,
   "metadata": {},
   "outputs": [],
   "source": [
    "import os\n",
    "os.environ[\"XLA_FLAGS\"] = '--xla_force_host_platform_device_count=10'"
   ]
  },
  {
   "cell_type": "code",
   "execution_count": 2,
   "metadata": {},
   "outputs": [],
   "source": [
    "import numpy as np\n",
    "import jax\n",
    "import treams.special as ts\n",
    "import treams"
   ]
  },
  {
   "cell_type": "code",
   "execution_count": 3,
   "metadata": {},
   "outputs": [],
   "source": [
    "x = y = np.linspace(-500, 500, 121)\n",
    "X, Y = np.meshgrid(x,y)\n",
    "X = X.flatten()\n",
    "Y = Y.flatten()\n",
    "Z = np.zeros_like(X)\n",
    "pos = np.array([\n",
    "  [-350, 350, -300, 300, -300, 300],\n",
    "  [0,    0,   -165, -165, 165, 165],\n",
    "  [0,    0,   0,    0,    0,   0]\n",
    "]).T"
   ]
  },
  {
   "cell_type": "code",
   "execution_count": 4,
   "metadata": {},
   "outputs": [],
   "source": [
    "k0 = 0.011180689785085548-0.0004307384124945234j\n",
    "basis = treams.CylindricalWaveBasis.default(0, 3, 6, positions=pos)\n",
    "basis = basis[basis.pol==0]\n",
    "material = treams.Material(1)"
   ]
  },
  {
   "cell_type": "code",
   "execution_count": 5,
   "metadata": {},
   "outputs": [],
   "source": [
    "ks = material.ks(k0)[basis.pol]\n",
    "krhos = material.krhos(k0, basis.kz, basis.pol) *(1-0.2j)"
   ]
  },
  {
   "cell_type": "code",
   "execution_count": 6,
   "metadata": {},
   "outputs": [
    {
     "name": "stdout",
     "output_type": "stream",
     "text": [
      "9.67 ms ± 145 μs per loop (mean ± std. dev. of 7 runs, 100 loops each)\n"
     ]
    }
   ],
   "source": [
    "%%timeit \n",
    "rcyl = ts.car2cyl(np.array([X,Y,Z]).T[:, np.newaxis] - basis.positions)"
   ]
  },
  {
   "cell_type": "code",
   "execution_count": 7,
   "metadata": {},
   "outputs": [],
   "source": [
    "rcyl = ts.car2cyl(np.array([X,Y,Z]).T[:, np.newaxis] - basis.positions)"
   ]
  },
  {
   "cell_type": "code",
   "execution_count": 8,
   "metadata": {},
   "outputs": [
    {
     "data": {
      "text/plain": [
       "(14641, 42)"
      ]
     },
     "execution_count": 8,
     "metadata": {},
     "output_type": "execute_result"
    }
   ],
   "source": [
    "rcyl[..., basis.pidx, 0].shape"
   ]
  },
  {
   "cell_type": "code",
   "execution_count": 9,
   "metadata": {},
   "outputs": [
    {
     "data": {
      "text/plain": [
       "614922"
      ]
     },
     "execution_count": 9,
     "metadata": {},
     "output_type": "execute_result"
    }
   ],
   "source": [
    "42*14641"
   ]
  },
  {
   "cell_type": "raw",
   "metadata": {
    "vscode": {
     "languageId": "raw"
    }
   },
   "source": [
    "%timeit ts.vcw_M(0,basis.m, krhos * rcyl[..., basis.pidx, 0], rcyl[..., basis.pidx, 1], rcyl[..., basis.pidx, 2])"
   ]
  },
  {
   "cell_type": "code",
   "execution_count": 10,
   "metadata": {},
   "outputs": [],
   "source": [
    "from scipy.special import hankel1"
   ]
  },
  {
   "cell_type": "code",
   "execution_count": 11,
   "metadata": {},
   "outputs": [],
   "source": [
    "x = np.linspace(1, 1000, 90000)"
   ]
  },
  {
   "cell_type": "code",
   "execution_count": 12,
   "metadata": {},
   "outputs": [
    {
     "name": "stdout",
     "output_type": "stream",
     "text": [
      "21.3 ms ± 836 μs per loop (mean ± std. dev. of 7 runs, 10 loops each)\n"
     ]
    }
   ],
   "source": [
    "%timeit hankel1(1, x)"
   ]
  },
  {
   "cell_type": "code",
   "execution_count": 13,
   "metadata": {},
   "outputs": [
    {
     "name": "stderr",
     "output_type": "stream",
     "text": [
      "<magic-timeit>:1: RuntimeWarning: overflow encountered in exp\n"
     ]
    },
    {
     "name": "stdout",
     "output_type": "stream",
     "text": [
      "674 μs ± 4.12 μs per loop (mean ± std. dev. of 7 runs, 1,000 loops each)\n"
     ]
    }
   ],
   "source": [
    "%timeit np.exp(x)"
   ]
  },
  {
   "cell_type": "code",
   "execution_count": 14,
   "metadata": {},
   "outputs": [],
   "source": [
    "from importlib import reload\n",
    "import treams.jcyl._tmatrixc as jat\n",
    "jat = reload(jat)"
   ]
  },
  {
   "cell_type": "code",
   "execution_count": 15,
   "metadata": {},
   "outputs": [
    {
     "name": "stderr",
     "output_type": "stream",
     "text": [
      "An NVIDIA GPU may be present on this machine, but a CUDA-enabled jaxlib is not installed. Falling back to cpu.\n"
     ]
    },
    {
     "name": "stdout",
     "output_type": "stream",
     "text": [
      "920 ms ± 17.1 ms per loop (mean ± std. dev. of 7 runs, 1 loop each)\n"
     ]
    }
   ],
   "source": [
    "x = np.linspace(0, 100, 30)\n",
    "positions = np.array([x,np.zeros_like(x),np.zeros_like(x)])\n",
    "radius = 1\n",
    "\n",
    "epsilons = [4, 1]\n",
    "k0s = np.array([1+0j]*10) #, 2+0j\n",
    "\n",
    "jat.globalt(2, [0], k0s, radius, positions, epsilons, None)\n",
    "%timeit  jat.globalt(2, [0], k0s, radius, positions, epsilons, None)"
   ]
  },
  {
   "cell_type": "code",
   "execution_count": 16,
   "metadata": {},
   "outputs": [
    {
     "name": "stdout",
     "output_type": "stream",
     "text": [
      "56.2 ms ± 2.32 ms per loop (mean ± std. dev. of 7 runs, 10 loops each)\n",
      "929 ms ± 7.88 ms per loop (mean ± std. dev. of 7 runs, 1 loop each)\n"
     ]
    }
   ],
   "source": [
    "mmax = 2\n",
    "kzs = [0]\n",
    "\n",
    "num = positions.shape[1]\n",
    "size = num*(1+2*mmax)*2\n",
    "\n",
    "%timeit tlocal = jat.localt(mmax, kzs, k0s, radius, num, epsilons)\n",
    "tlocal = jat.localt(mmax, kzs, k0s, radius, num, epsilons)\n",
    "\n",
    "environment = treams.Material(epsilons[-1])\n",
    "%timeit jat.globfromloc(tlocal, positions, mmax, kzs, k0s, num, environment, None)"
   ]
  },
  {
   "cell_type": "code",
   "execution_count": 17,
   "metadata": {},
   "outputs": [],
   "source": [
    "tlocal = jat.localt(mmax, kzs, k0s, radius, num, epsilons)\n",
    "tlocal = tlocal[0]"
   ]
  },
  {
   "cell_type": "code",
   "execution_count": 18,
   "metadata": {},
   "outputs": [
    {
     "name": "stdout",
     "output_type": "stream",
     "text": [
      "61.1 ms ± 208 μs per loop (mean ± std. dev. of 7 runs, 10 loops each)\n",
      "The slowest run took 7.08 times longer than the fastest. This could mean that an intermediate result is being cached.\n",
      "15.7 ms ± 9.81 ms per loop (mean ± std. dev. of 7 runs, 100 loops each)\n"
     ]
    }
   ],
   "source": [
    "modes = jat.defaultmodes(mmax, kzs, num)\n",
    "pidx, kz, m, pol = modes\n",
    "pos = np.array(positions).T\n",
    "ind = pos[:, None, :] - pos\n",
    "rho, theta, phi = np.array(jat.cw.car2cyl(*ind.T))[:, pidx[:, None], pidx]\n",
    "\n",
    "krho = jat.krhos(k0, kz, pol, material) #TODO diffable\n",
    "\n",
    "translation = jat.cw.translate(\n",
    "    *modes[1:, :, None], #kz, m, pol\n",
    "    *modes[1:],\n",
    "    krho*rho,\n",
    "    theta,\n",
    "    phi,\n",
    ")\n",
    "%timeit jat.cw.translate(*modes[1:, :, None],*modes[1:],krho*rho,theta,phi)\n",
    "\n",
    "translation = np.where(rho != 0, translation, 0)\n",
    "\n",
    "B = tlocal @ np.reshape(translation, tlocal.shape)\n",
    "A = np.eye(tlocal.shape[0]) - B\n",
    "\n",
    "finalt = np.linalg.solve(\n",
    "    A,\n",
    "    tlocal,\n",
    ")\n",
    "\n",
    "%timeit np.linalg.solve(A,tlocal)"
   ]
  },
  {
   "cell_type": "code",
   "execution_count": 19,
   "metadata": {},
   "outputs": [],
   "source": [
    "pz, pm, pol = modes[1:, :, None]\n",
    "qz, qm, qol = modes[1:]"
   ]
  },
  {
   "cell_type": "code",
   "execution_count": 20,
   "metadata": {},
   "outputs": [
    {
     "data": {
      "text/plain": [
       "(300, 300)"
      ]
     },
     "execution_count": 20,
     "metadata": {},
     "output_type": "execute_result"
    }
   ],
   "source": [
    "(pm-qm).shape"
   ]
  },
  {
   "cell_type": "code",
   "execution_count": 21,
   "metadata": {},
   "outputs": [
    {
     "data": {
      "text/plain": [
       "90000"
      ]
     },
     "execution_count": 21,
     "metadata": {},
     "output_type": "execute_result"
    }
   ],
   "source": [
    "300*300"
   ]
  },
  {
   "cell_type": "code",
   "execution_count": 22,
   "metadata": {},
   "outputs": [
    {
     "data": {
      "text/plain": [
       "(300, 300)"
      ]
     },
     "execution_count": 22,
     "metadata": {},
     "output_type": "execute_result"
    }
   ],
   "source": [
    "(krho*rho).shape"
   ]
  },
  {
   "cell_type": "code",
   "execution_count": 23,
   "metadata": {},
   "outputs": [
    {
     "name": "stdout",
     "output_type": "stream",
     "text": [
      "46.8 ms ± 2.76 ms per loop (mean ± std. dev. of 7 runs, 10 loops each)\n"
     ]
    }
   ],
   "source": [
    "%timeit hankel1(pm-qm, krho*rho)"
   ]
  },
  {
   "cell_type": "code",
   "execution_count": 24,
   "metadata": {},
   "outputs": [],
   "source": [
    "import treams.jspecial as jts\n",
    "jts = reload(jts)"
   ]
  },
  {
   "cell_type": "code",
   "execution_count": 25,
   "metadata": {},
   "outputs": [
    {
     "name": "stdout",
     "output_type": "stream",
     "text": [
      "39.3 ms ± 1.7 ms per loop (mean ± std. dev. of 7 runs, 10 loops each)\n"
     ]
    }
   ],
   "source": [
    "mask = np.logical_and(pol==qol, pz == qz)\n",
    "%timeit jts.hankel1(pm-qm, krho*rho, mask)"
   ]
  },
  {
   "cell_type": "code",
   "execution_count": 26,
   "metadata": {},
   "outputs": [
    {
     "data": {
      "text/plain": [
       "(300, 300)"
      ]
     },
     "execution_count": 26,
     "metadata": {},
     "output_type": "execute_result"
    }
   ],
   "source": [
    "mask.shape"
   ]
  },
  {
   "cell_type": "code",
   "execution_count": 27,
   "metadata": {},
   "outputs": [
    {
     "data": {
      "text/plain": [
       "45000"
      ]
     },
     "execution_count": 27,
     "metadata": {},
     "output_type": "execute_result"
    }
   ],
   "source": [
    "np.sum(mask)"
   ]
  },
  {
   "cell_type": "code",
   "execution_count": 28,
   "metadata": {},
   "outputs": [
    {
     "data": {
      "text/plain": [
       "90000"
      ]
     },
     "execution_count": 28,
     "metadata": {},
     "output_type": "execute_result"
    }
   ],
   "source": [
    "300*300"
   ]
  },
  {
   "cell_type": "code",
   "execution_count": 50,
   "metadata": {},
   "outputs": [
    {
     "name": "stderr",
     "output_type": "stream",
     "text": [
      "An NVIDIA GPU may be present on this machine, but a CUDA-enabled jaxlib is not installed. Falling back to cpu.\n"
     ]
    }
   ],
   "source": [
    "import baryrat\n",
    "import jax.numpy as np\n",
    "import scipy.special\n",
    "import matplotlib.pyplot as plt\n",
    "import jax\n",
    "\n",
    "def inv_bessel(z):\n",
    "    return 1/scipy.special.jn(1, z)\n",
    "\n",
    "def bessel(z):\n",
    "    return scipy.special.jn(1, z)\n",
    "\n",
    "z_r = np.linspace(0, 10, 50)\n",
    "z_i = np.linspace(-1, 1, 50)\n",
    "Z_r, Z_i = np.meshgrid(z_r, z_i)\n",
    "Z = Z_r +1j*Z_i\n",
    "F = bessel(Z)\n",
    "r = baryrat.aaa(Z, F, mmax=13)"
   ]
  },
  {
   "cell_type": "code",
   "execution_count": 52,
   "metadata": {},
   "outputs": [
    {
     "data": {
      "text/plain": [
       "<matplotlib.collections.QuadMesh at 0x71e211bfb410>"
      ]
     },
     "execution_count": 52,
     "metadata": {},
     "output_type": "execute_result"
    },
    {
     "data": {
      "image/png": "[encoded data removed]",
      "text/plain": [
       "<Figure size 600x450 with 1 Axes>"
      ]
     },
     "metadata": {},
     "output_type": "display_data"
    }
   ],
   "source": [
    "plt.pcolormesh(Z_r, Z_i, np.abs(F))"
   ]
  },
  {
   "cell_type": "code",
   "execution_count": 85,
   "metadata": {},
   "outputs": [
    {
     "name": "stdout",
     "output_type": "stream",
     "text": [
      "6.13 s ± 353 ms per loop (mean ± std. dev. of 7 runs, 1 loop each)\n"
     ]
    }
   ],
   "source": [
    "z_r_time = np.linspace(0.1, 9.9, 6000)\n",
    "z_i_time = np.linspace(-1, 1, 6000)\n",
    "Z_r_time, Z_i_time = np.meshgrid(z_r_time, z_i_time)\n",
    "Z_time = Z_r_time +1j*Z_i_time\n",
    "%timeit r(Z_time)"
   ]
  },
  {
   "cell_type": "code",
   "execution_count": 86,
   "metadata": {},
   "outputs": [
    {
     "name": "stdout",
     "output_type": "stream",
     "text": [
      "22 s ± 176 ms per loop (mean ± std. dev. of 7 runs, 1 loop each)\n"
     ]
    }
   ],
   "source": [
    "%timeit bessel(Z_time)"
   ]
  },
  {
   "cell_type": "code",
   "execution_count": 87,
   "metadata": {},
   "outputs": [],
   "source": [
    "@jax.jit\n",
    "def eval_baryrat(zj, wj, fj, x):\n",
    "    xv = x.ravel()\n",
    "    D = xv[:,None] - zj[None,:]\n",
    "\n",
    "    C = np.divide(1, D)\n",
    "    r = C.dot(wj * fj) / C.dot(wj)\n",
    "    \n",
    "    return r.reshape(x.shape)"
   ]
  },
  {
   "cell_type": "code",
   "execution_count": 88,
   "metadata": {},
   "outputs": [],
   "source": [
    "@jax.jit\n",
    "def eval_baryrat(zj, wj, fj, x):\n",
    "    #xv = x.ravel()\n",
    "    D = x[:,None] - zj[None,:]\n",
    "    C = 1/D\n",
    "    r = C.dot(wj * fj) / C.dot(wj)\n",
    "    return r\n",
    "    #return r.reshape(x.shape)"
   ]
  },
  {
   "cell_type": "code",
   "execution_count": 89,
   "metadata": {},
   "outputs": [
    {
     "data": {
      "text/plain": [
       "Array([0.07000022-0.56301343j, 0.07114074-0.56294286j,\n",
       "       0.07228106-0.5628712j , ..., 0.09171253-0.29018947j,\n",
       "       0.09109121-0.2902652j , 0.09046902-0.29034024j], dtype=complex64)"
      ]
     },
     "execution_count": 89,
     "metadata": {},
     "output_type": "execute_result"
    }
   ],
   "source": [
    "eval_baryrat(r.nodes, r.weights, r.values, Z_time.ravel())"
   ]
  },
  {
   "cell_type": "code",
   "execution_count": 90,
   "metadata": {},
   "outputs": [
    {
     "name": "stdout",
     "output_type": "stream",
     "text": [
      "2.66 s ± 69.3 ms per loop (mean ± std. dev. of 7 runs, 1 loop each)\n"
     ]
    }
   ],
   "source": [
    "flat = Z_time.ravel()\n",
    "%timeit eval_baryrat(r.nodes, r.weights, r.values, flat)"
   ]
  },
  {
   "cell_type": "code",
   "execution_count": 73,
   "metadata": {},
   "outputs": [
    {
     "data": {
      "text/plain": [
       "<matplotlib.colorbar.Colorbar at 0x71e1ed758d90>"
      ]
     },
     "execution_count": 73,
     "metadata": {},
     "output_type": "execute_result"
    },
    {
     "data": {
      "image/png": "[encoded data removed]",
      "text/plain": [
       "<Figure size 600x450 with 2 Axes>"
      ]
     },
     "metadata": {},
     "output_type": "display_data"
    }
   ],
   "source": [
    "plt.pcolormesh(Z_r_time, Z_i_time, np.abs(eval_baryrat(r.nodes, r.weights, r.values, Z_time)))\n",
    "plt.colorbar()"
   ]
  },
  {
   "cell_type": "code",
   "execution_count": 40,
   "metadata": {},
   "outputs": [
    {
     "data": {
      "text/plain": [
       "<matplotlib.collections.PathCollection at 0x71e22a906b50>"
      ]
     },
     "execution_count": 40,
     "metadata": {},
     "output_type": "execute_result"
    },
    {
     "data": {
      "image/png": "[encoded data removed]",
      "text/plain": [
       "<Figure size 600x450 with 1 Axes>"
      ]
     },
     "metadata": {},
     "output_type": "display_data"
    }
   ],
   "source": [
    "poles = r.poles()\n",
    "plt.scatter(poles.real, poles.imag)"
   ]
  },
  {
   "cell_type": "code",
   "execution_count": null,
   "metadata": {},
   "outputs": [],
   "source": []
  },
  {
   "cell_type": "code",
   "execution_count": null,
   "metadata": {},
   "outputs": [],
   "source": []
  }
 ],
 "metadata": {
  "kernelspec": {
   "display_name": "jat",
   "language": "python",
   "name": "python3"
  },
  "language_info": {
   "codemirror_mode": {
    "name": "ipython",
    "version": 3
   },
   "file_extension": ".py",
   "mimetype": "text/x-python",
   "name": "python",
   "nbconvert_exporter": "python",
   "pygments_lexer": "ipython3",
   "version": "3.11.9"
  }
 },
 "nbformat": 4,
 "nbformat_minor": 2
}
